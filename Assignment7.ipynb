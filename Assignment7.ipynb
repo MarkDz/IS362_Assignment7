{
 "cells": [
  {
   "cell_type": "markdown",
   "metadata": {},
   "source": [
    "#  Week 7 Assignment - Data Aggregation"
   ]
  },
  {
   "cell_type": "code",
   "execution_count": 19,
   "metadata": {},
   "outputs": [],
   "source": [
    "import pandas as pd\n",
    "import numpy as np"
   ]
  },
  {
   "cell_type": "code",
   "execution_count": 20,
   "metadata": {},
   "outputs": [
    {
     "data": {
      "text/html": [
       "<div>\n",
       "<style scoped>\n",
       "    .dataframe tbody tr th:only-of-type {\n",
       "        vertical-align: middle;\n",
       "    }\n",
       "\n",
       "    .dataframe tbody tr th {\n",
       "        vertical-align: top;\n",
       "    }\n",
       "\n",
       "    .dataframe thead th {\n",
       "        text-align: right;\n",
       "    }\n",
       "</style>\n",
       "<table border=\"1\" class=\"dataframe\">\n",
       "  <thead>\n",
       "    <tr style=\"text-align: right;\">\n",
       "      <th></th>\n",
       "      <th>Red Sparrow</th>\n",
       "      <th>Game Night</th>\n",
       "      <th>Peter Rabbit</th>\n",
       "      <th>Jumanji</th>\n",
       "      <th>The Hurricane Heist</th>\n",
       "      <th>Annihilation</th>\n",
       "    </tr>\n",
       "  </thead>\n",
       "  <tbody>\n",
       "    <tr>\n",
       "      <th>Liam</th>\n",
       "      <td>4.0</td>\n",
       "      <td>NaN</td>\n",
       "      <td>3.5</td>\n",
       "      <td>3.0</td>\n",
       "      <td>3.0</td>\n",
       "      <td>2.0</td>\n",
       "    </tr>\n",
       "    <tr>\n",
       "      <th>Noah</th>\n",
       "      <td>NaN</td>\n",
       "      <td>4.0</td>\n",
       "      <td>4.0</td>\n",
       "      <td>3.5</td>\n",
       "      <td>4.0</td>\n",
       "      <td>3.0</td>\n",
       "    </tr>\n",
       "    <tr>\n",
       "      <th>Mason</th>\n",
       "      <td>4.5</td>\n",
       "      <td>NaN</td>\n",
       "      <td>4.0</td>\n",
       "      <td>3.5</td>\n",
       "      <td>3.0</td>\n",
       "      <td>3.0</td>\n",
       "    </tr>\n",
       "    <tr>\n",
       "      <th>Ava</th>\n",
       "      <td>NaN</td>\n",
       "      <td>4.5</td>\n",
       "      <td>3.0</td>\n",
       "      <td>4.0</td>\n",
       "      <td>NaN</td>\n",
       "      <td>NaN</td>\n",
       "    </tr>\n",
       "    <tr>\n",
       "      <th>Emily</th>\n",
       "      <td>3.5</td>\n",
       "      <td>5.0</td>\n",
       "      <td>NaN</td>\n",
       "      <td>4.0</td>\n",
       "      <td>3.0</td>\n",
       "      <td>4.0</td>\n",
       "    </tr>\n",
       "  </tbody>\n",
       "</table>\n",
       "</div>"
      ],
      "text/plain": [
       "       Red Sparrow  Game Night  Peter Rabbit  Jumanji  The Hurricane Heist  \\\n",
       "Liam           4.0         NaN           3.5      3.0                  3.0   \n",
       "Noah           NaN         4.0           4.0      3.5                  4.0   \n",
       "Mason          4.5         NaN           4.0      3.5                  3.0   \n",
       "Ava            NaN         4.5           3.0      4.0                  NaN   \n",
       "Emily          3.5         5.0           NaN      4.0                  3.0   \n",
       "\n",
       "       Annihilation  \n",
       "Liam            2.0  \n",
       "Noah            3.0  \n",
       "Mason           3.0  \n",
       "Ava             NaN  \n",
       "Emily           4.0  "
      ]
     },
     "execution_count": 20,
     "metadata": {},
     "output_type": "execute_result"
    }
   ],
   "source": [
    "# reads data from csv file\n",
    "movie_reviews = pd.read_csv('movies.csv', index_col = 0)  \n",
    "movie_reviews"
   ]
  },
  {
   "cell_type": "markdown",
   "metadata": {},
   "source": [
    "The next step is to tidy data by replacing NaN value with 0.0"
   ]
  },
  {
   "cell_type": "code",
   "execution_count": 21,
   "metadata": {},
   "outputs": [
    {
     "data": {
      "text/html": [
       "<div>\n",
       "<style scoped>\n",
       "    .dataframe tbody tr th:only-of-type {\n",
       "        vertical-align: middle;\n",
       "    }\n",
       "\n",
       "    .dataframe tbody tr th {\n",
       "        vertical-align: top;\n",
       "    }\n",
       "\n",
       "    .dataframe thead th {\n",
       "        text-align: right;\n",
       "    }\n",
       "</style>\n",
       "<table border=\"1\" class=\"dataframe\">\n",
       "  <thead>\n",
       "    <tr style=\"text-align: right;\">\n",
       "      <th></th>\n",
       "      <th>Red Sparrow</th>\n",
       "      <th>Game Night</th>\n",
       "      <th>Peter Rabbit</th>\n",
       "      <th>Jumanji</th>\n",
       "      <th>The Hurricane Heist</th>\n",
       "      <th>Annihilation</th>\n",
       "    </tr>\n",
       "  </thead>\n",
       "  <tbody>\n",
       "    <tr>\n",
       "      <th>Liam</th>\n",
       "      <td>4.0</td>\n",
       "      <td>0.0</td>\n",
       "      <td>3.5</td>\n",
       "      <td>3.0</td>\n",
       "      <td>3.0</td>\n",
       "      <td>2.0</td>\n",
       "    </tr>\n",
       "    <tr>\n",
       "      <th>Noah</th>\n",
       "      <td>0.0</td>\n",
       "      <td>4.0</td>\n",
       "      <td>4.0</td>\n",
       "      <td>3.5</td>\n",
       "      <td>4.0</td>\n",
       "      <td>3.0</td>\n",
       "    </tr>\n",
       "    <tr>\n",
       "      <th>Mason</th>\n",
       "      <td>4.5</td>\n",
       "      <td>0.0</td>\n",
       "      <td>4.0</td>\n",
       "      <td>3.5</td>\n",
       "      <td>3.0</td>\n",
       "      <td>3.0</td>\n",
       "    </tr>\n",
       "    <tr>\n",
       "      <th>Ava</th>\n",
       "      <td>0.0</td>\n",
       "      <td>4.5</td>\n",
       "      <td>3.0</td>\n",
       "      <td>4.0</td>\n",
       "      <td>0.0</td>\n",
       "      <td>0.0</td>\n",
       "    </tr>\n",
       "    <tr>\n",
       "      <th>Emily</th>\n",
       "      <td>3.5</td>\n",
       "      <td>5.0</td>\n",
       "      <td>0.0</td>\n",
       "      <td>4.0</td>\n",
       "      <td>3.0</td>\n",
       "      <td>4.0</td>\n",
       "    </tr>\n",
       "  </tbody>\n",
       "</table>\n",
       "</div>"
      ],
      "text/plain": [
       "       Red Sparrow  Game Night  Peter Rabbit  Jumanji  The Hurricane Heist  \\\n",
       "Liam           4.0         0.0           3.5      3.0                  3.0   \n",
       "Noah           0.0         4.0           4.0      3.5                  4.0   \n",
       "Mason          4.5         0.0           4.0      3.5                  3.0   \n",
       "Ava            0.0         4.5           3.0      4.0                  0.0   \n",
       "Emily          3.5         5.0           0.0      4.0                  3.0   \n",
       "\n",
       "       Annihilation  \n",
       "Liam            2.0  \n",
       "Noah            3.0  \n",
       "Mason           3.0  \n",
       "Ava             0.0  \n",
       "Emily           4.0  "
      ]
     },
     "execution_count": 21,
     "metadata": {},
     "output_type": "execute_result"
    }
   ],
   "source": [
    "# replaces NaN values with 0.0\n",
    "clean_reviews = movie_reviews.fillna(0.0)\n",
    "clean_reviews"
   ]
  },
  {
   "cell_type": "markdown",
   "metadata": {},
   "source": [
    "Next, the average rating for each user will be dispalyed"
   ]
  },
  {
   "cell_type": "code",
   "execution_count": 22,
   "metadata": {},
   "outputs": [
    {
     "data": {
      "text/plain": [
       "Liam     2.6\n",
       "Noah     3.1\n",
       "Mason    3.0\n",
       "Ava      1.9\n",
       "Emily    3.2\n",
       "dtype: float64"
      ]
     },
     "execution_count": 22,
     "metadata": {},
     "output_type": "execute_result"
    }
   ],
   "source": [
    "clean_reviews.mean(axis =1).round(1)"
   ]
  },
  {
   "cell_type": "markdown",
   "metadata": {},
   "source": [
    "Now, the average rating for each movie will be displayed"
   ]
  },
  {
   "cell_type": "code",
   "execution_count": 23,
   "metadata": {},
   "outputs": [
    {
     "data": {
      "text/plain": [
       "Red Sparrow            2.4\n",
       "Game Night             2.7\n",
       "Peter Rabbit           2.9\n",
       "Jumanji                3.6\n",
       "The Hurricane Heist    2.6\n",
       "Annihilation           2.4\n",
       "dtype: float64"
      ]
     },
     "execution_count": 23,
     "metadata": {},
     "output_type": "execute_result"
    }
   ],
   "source": [
    "clean_reviews.mean(axis =0).round(1)"
   ]
  },
  {
   "cell_type": "markdown",
   "metadata": {},
   "source": [
    "## Normalized Data\n",
    "\n",
    "Normalization is the process of organizing data in a database. This includes creating tables and establishing relationships between those tables according to rules designed both to protect the data and to make the database more flexible by eliminating redundancy and inconsistent dependency.\n",
    "The formula for Normalization is given below:\n",
    "\n",
    "normalized = (x - x.min()) / (x.max() - x.min())"
   ]
  },
  {
   "cell_type": "markdown",
   "metadata": {},
   "source": [
    "In the next step data in the table will be normalized"
   ]
  },
  {
   "cell_type": "code",
   "execution_count": 24,
   "metadata": {},
   "outputs": [
    {
     "data": {
      "text/html": [
       "<div>\n",
       "<style scoped>\n",
       "    .dataframe tbody tr th:only-of-type {\n",
       "        vertical-align: middle;\n",
       "    }\n",
       "\n",
       "    .dataframe tbody tr th {\n",
       "        vertical-align: top;\n",
       "    }\n",
       "\n",
       "    .dataframe thead th {\n",
       "        text-align: right;\n",
       "    }\n",
       "</style>\n",
       "<table border=\"1\" class=\"dataframe\">\n",
       "  <thead>\n",
       "    <tr style=\"text-align: right;\">\n",
       "      <th></th>\n",
       "      <th>Red Sparrow</th>\n",
       "      <th>Game Night</th>\n",
       "      <th>Peter Rabbit</th>\n",
       "      <th>Jumanji</th>\n",
       "      <th>The Hurricane Heist</th>\n",
       "      <th>Annihilation</th>\n",
       "    </tr>\n",
       "  </thead>\n",
       "  <tbody>\n",
       "    <tr>\n",
       "      <th>Liam</th>\n",
       "      <td>0.9</td>\n",
       "      <td>0.0</td>\n",
       "      <td>0.9</td>\n",
       "      <td>0.0</td>\n",
       "      <td>0.8</td>\n",
       "      <td>0.5</td>\n",
       "    </tr>\n",
       "    <tr>\n",
       "      <th>Noah</th>\n",
       "      <td>0.0</td>\n",
       "      <td>0.8</td>\n",
       "      <td>1.0</td>\n",
       "      <td>0.5</td>\n",
       "      <td>1.0</td>\n",
       "      <td>0.8</td>\n",
       "    </tr>\n",
       "    <tr>\n",
       "      <th>Mason</th>\n",
       "      <td>1.0</td>\n",
       "      <td>0.0</td>\n",
       "      <td>1.0</td>\n",
       "      <td>0.5</td>\n",
       "      <td>0.8</td>\n",
       "      <td>0.8</td>\n",
       "    </tr>\n",
       "    <tr>\n",
       "      <th>Ava</th>\n",
       "      <td>0.0</td>\n",
       "      <td>0.9</td>\n",
       "      <td>0.8</td>\n",
       "      <td>1.0</td>\n",
       "      <td>0.0</td>\n",
       "      <td>0.0</td>\n",
       "    </tr>\n",
       "    <tr>\n",
       "      <th>Emily</th>\n",
       "      <td>0.8</td>\n",
       "      <td>1.0</td>\n",
       "      <td>0.0</td>\n",
       "      <td>1.0</td>\n",
       "      <td>0.8</td>\n",
       "      <td>1.0</td>\n",
       "    </tr>\n",
       "  </tbody>\n",
       "</table>\n",
       "</div>"
      ],
      "text/plain": [
       "       Red Sparrow  Game Night  Peter Rabbit  Jumanji  The Hurricane Heist  \\\n",
       "Liam           0.9         0.0           0.9      0.0                  0.8   \n",
       "Noah           0.0         0.8           1.0      0.5                  1.0   \n",
       "Mason          1.0         0.0           1.0      0.5                  0.8   \n",
       "Ava            0.0         0.9           0.8      1.0                  0.0   \n",
       "Emily          0.8         1.0           0.0      1.0                  0.8   \n",
       "\n",
       "       Annihilation  \n",
       "Liam            0.5  \n",
       "Noah            0.8  \n",
       "Mason           0.8  \n",
       "Ava             0.0  \n",
       "Emily           1.0  "
      ]
     },
     "execution_count": 24,
     "metadata": {},
     "output_type": "execute_result"
    }
   ],
   "source": [
    "normalized = (clean_reviews - clean_reviews.min())/ (clean_reviews.max() - clean_reviews.min())\n",
    "normalized.round(1)"
   ]
  },
  {
   "cell_type": "markdown",
   "metadata": {},
   "source": [
    "Now, normalized data will be displayed of average rating for each user"
   ]
  },
  {
   "cell_type": "code",
   "execution_count": 25,
   "metadata": {},
   "outputs": [
    {
     "data": {
      "text/plain": [
       "Liam     0.50\n",
       "Noah     0.68\n",
       "Mason    0.67\n",
       "Ava      0.44\n",
       "Emily    0.75\n",
       "dtype: float64"
      ]
     },
     "execution_count": 25,
     "metadata": {},
     "output_type": "execute_result"
    }
   ],
   "source": [
    "normalized_by_user = normalized.mean(axis = 1).round(2)\n",
    "normalized_by_user"
   ]
  },
  {
   "cell_type": "markdown",
   "metadata": {},
   "source": [
    "Next, normalized data will be displayed of average rating for each movie"
   ]
  },
  {
   "cell_type": "code",
   "execution_count": 26,
   "metadata": {},
   "outputs": [
    {
     "data": {
      "text/plain": [
       "Red Sparrow            0.53\n",
       "Game Night             0.54\n",
       "Peter Rabbit           0.72\n",
       "Jumanji                0.60\n",
       "The Hurricane Heist    0.65\n",
       "Annihilation           0.60\n",
       "dtype: float64"
      ]
     },
     "execution_count": 26,
     "metadata": {},
     "output_type": "execute_result"
    }
   ],
   "source": [
    "normalized_by_movie = normalized.mean(axis = 0).round(2)\n",
    "normalized_by_movie"
   ]
  },
  {
   "cell_type": "markdown",
   "metadata": {},
   "source": [
    "## Standardized Data\n",
    "\n",
    "Standardized data helps center the data around 0 and to scale in respect to standard deviation. Data can be standardized using following formula.\n",
    "\n",
    "standardized = (x - x.mean()) / x.std()"
   ]
  },
  {
   "cell_type": "markdown",
   "metadata": {},
   "source": [
    "In the next step our data will be standarized"
   ]
  },
  {
   "cell_type": "code",
   "execution_count": 27,
   "metadata": {},
   "outputs": [
    {
     "data": {
      "text/html": [
       "<div>\n",
       "<style scoped>\n",
       "    .dataframe tbody tr th:only-of-type {\n",
       "        vertical-align: middle;\n",
       "    }\n",
       "\n",
       "    .dataframe tbody tr th {\n",
       "        vertical-align: top;\n",
       "    }\n",
       "\n",
       "    .dataframe thead th {\n",
       "        text-align: right;\n",
       "    }\n",
       "</style>\n",
       "<table border=\"1\" class=\"dataframe\">\n",
       "  <thead>\n",
       "    <tr style=\"text-align: right;\">\n",
       "      <th></th>\n",
       "      <th>Red Sparrow</th>\n",
       "      <th>Game Night</th>\n",
       "      <th>Peter Rabbit</th>\n",
       "      <th>Jumanji</th>\n",
       "      <th>The Hurricane Heist</th>\n",
       "      <th>Annihilation</th>\n",
       "    </tr>\n",
       "  </thead>\n",
       "  <tbody>\n",
       "    <tr>\n",
       "      <th>Liam</th>\n",
       "      <td>0.720969</td>\n",
       "      <td>-1.084346</td>\n",
       "      <td>0.358569</td>\n",
       "      <td>-1.434274</td>\n",
       "      <td>0.263752</td>\n",
       "      <td>-0.263752</td>\n",
       "    </tr>\n",
       "    <tr>\n",
       "      <th>Noah</th>\n",
       "      <td>-1.081454</td>\n",
       "      <td>0.522093</td>\n",
       "      <td>0.657376</td>\n",
       "      <td>-0.239046</td>\n",
       "      <td>0.923133</td>\n",
       "      <td>0.395628</td>\n",
       "    </tr>\n",
       "    <tr>\n",
       "      <th>Mason</th>\n",
       "      <td>0.946272</td>\n",
       "      <td>-1.084346</td>\n",
       "      <td>0.657376</td>\n",
       "      <td>-0.239046</td>\n",
       "      <td>0.263752</td>\n",
       "      <td>0.395628</td>\n",
       "    </tr>\n",
       "    <tr>\n",
       "      <th>Ava</th>\n",
       "      <td>-1.081454</td>\n",
       "      <td>0.722897</td>\n",
       "      <td>0.059761</td>\n",
       "      <td>0.956183</td>\n",
       "      <td>-1.714389</td>\n",
       "      <td>-1.582513</td>\n",
       "    </tr>\n",
       "    <tr>\n",
       "      <th>Emily</th>\n",
       "      <td>0.495666</td>\n",
       "      <td>0.923702</td>\n",
       "      <td>-1.733081</td>\n",
       "      <td>0.956183</td>\n",
       "      <td>0.263752</td>\n",
       "      <td>1.055009</td>\n",
       "    </tr>\n",
       "  </tbody>\n",
       "</table>\n",
       "</div>"
      ],
      "text/plain": [
       "       Red Sparrow  Game Night  Peter Rabbit   Jumanji  The Hurricane Heist  \\\n",
       "Liam      0.720969   -1.084346      0.358569 -1.434274             0.263752   \n",
       "Noah     -1.081454    0.522093      0.657376 -0.239046             0.923133   \n",
       "Mason     0.946272   -1.084346      0.657376 -0.239046             0.263752   \n",
       "Ava      -1.081454    0.722897      0.059761  0.956183            -1.714389   \n",
       "Emily     0.495666    0.923702     -1.733081  0.956183             0.263752   \n",
       "\n",
       "       Annihilation  \n",
       "Liam      -0.263752  \n",
       "Noah       0.395628  \n",
       "Mason      0.395628  \n",
       "Ava       -1.582513  \n",
       "Emily      1.055009  "
      ]
     },
     "execution_count": 27,
     "metadata": {},
     "output_type": "execute_result"
    }
   ],
   "source": [
    "standardized = (clean_reviews - clean_reviews.mean())/clean_reviews.std()\n",
    "standardized"
   ]
  },
  {
   "cell_type": "markdown",
   "metadata": {},
   "source": [
    "Next, standardized data will be displayed of average rating for each user"
   ]
  },
  {
   "cell_type": "code",
   "execution_count": 28,
   "metadata": {},
   "outputs": [
    {
     "data": {
      "text/plain": [
       "Liam    -0.239847\n",
       "Noah     0.196288\n",
       "Mason    0.156606\n",
       "Ava     -0.439919\n",
       "Emily    0.326872\n",
       "dtype: float64"
      ]
     },
     "execution_count": 28,
     "metadata": {},
     "output_type": "execute_result"
    }
   ],
   "source": [
    "standardized.mean(axis = 1)"
   ]
  },
  {
   "cell_type": "markdown",
   "metadata": {},
   "source": [
    "Next, standadized data will be displayed of average rating for each movie"
   ]
  },
  {
   "cell_type": "code",
   "execution_count": 29,
   "metadata": {},
   "outputs": [
    {
     "data": {
      "text/plain": [
       "Red Sparrow            6.661338e-17\n",
       "Game Night            -6.661338e-17\n",
       "Peter Rabbit           4.440892e-17\n",
       "Jumanji               -1.776357e-16\n",
       "The Hurricane Heist   -9.992007e-17\n",
       "Annihilation           4.440892e-17\n",
       "dtype: float64"
      ]
     },
     "execution_count": 29,
     "metadata": {},
     "output_type": "execute_result"
    }
   ],
   "source": [
    "standardized.mean(axis = 0)"
   ]
  }
 ],
 "metadata": {
  "kernelspec": {
   "display_name": "Python 3",
   "language": "python",
   "name": "python3"
  },
  "language_info": {
   "codemirror_mode": {
    "name": "ipython",
    "version": 3
   },
   "file_extension": ".py",
   "mimetype": "text/x-python",
   "name": "python",
   "nbconvert_exporter": "python",
   "pygments_lexer": "ipython3",
   "version": "3.5.4"
  }
 },
 "nbformat": 4,
 "nbformat_minor": 2
}
